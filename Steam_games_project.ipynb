{
  "nbformat": 4,
  "nbformat_minor": 0,
  "metadata": {
    "colab": {
      "provenance": [],
      "authorship_tag": "ABX9TyMYtPkW96O6mp4DUaFFS8Et",
      "include_colab_link": true
    },
    "kernelspec": {
      "name": "python3",
      "display_name": "Python 3"
    },
    "language_info": {
      "name": "python"
    }
  },
  "cells": [
    {
      "cell_type": "markdown",
      "metadata": {
        "id": "view-in-github",
        "colab_type": "text"
      },
      "source": [
        "<a href=\"https://colab.research.google.com/github/jwashb22/ml_projects/blob/main/Steam_games_project.ipynb\" target=\"_parent\"><img src=\"https://colab.research.google.com/assets/colab-badge.svg\" alt=\"Open In Colab\"/></a>"
      ]
    },
    {
      "cell_type": "code",
      "execution_count": null,
      "metadata": {
        "id": "sFGL4e3xVsLk"
      },
      "outputs": [],
      "source": [
        "import pandas as pd\n",
        "import numpy as np\n",
        "df = pd.read_csv('steam_games.csv')"
      ]
    },
    {
      "cell_type": "code",
      "source": [
        "scores = (\n",
        "     'Overwhelmingly Positive'\n",
        "    , 'Very Positive'\n",
        "    , 'Positive'\n",
        "    , 'Mostly Positive'\n",
        "    , 'Mixed'\n",
        "    , 'Mostly Negative'\n",
        "    , 'Negative'\n",
        "    , 'Very Negative'\n",
        "    , 'Overwhelmingly Negative'\n",
        ")"
      ],
      "metadata": {
        "id": "CTyePD3gVwUR"
      },
      "execution_count": null,
      "outputs": []
    },
    {
      "cell_type": "code",
      "source": [
        "def str_finder(value, scores):\n",
        "    if not isinstance(value, str):\n",
        "        value = str(value)\n",
        "\n",
        "    for score in scores:\n",
        "        start = value.find(score)\n",
        "        if start != -1:\n",
        "            return score\n",
        "    return np.nan"
      ],
      "metadata": {
        "id": "R1XQCDAoVz-B"
      },
      "execution_count": null,
      "outputs": []
    },
    {
      "cell_type": "code",
      "source": [
        "df['recent_reviews_score'] = df['recent_reviews'].apply(lambda x: str_finder(x, scores))"
      ],
      "metadata": {
        "id": "_ejOnfLsZjd5"
      },
      "execution_count": null,
      "outputs": []
    },
    {
      "cell_type": "code",
      "source": [
        "df['all_reviews_score'] = df['all_reviews'].apply(lambda x: str_finder(x, scores))"
      ],
      "metadata": {
        "id": "8WEtim2aac0O"
      },
      "execution_count": null,
      "outputs": []
    },
    {
      "cell_type": "code",
      "source": [
        "df['number_of_reviews'] = df['all_reviews'].str.extract(r'\\((\\d{1,3}(?:,\\d{3})*)\\)')"
      ],
      "metadata": {
        "id": "HyUYncqGvW3j"
      },
      "execution_count": null,
      "outputs": []
    },
    {
      "cell_type": "code",
      "source": [
        "df['genre_simplified'] = df['genre'].str.extract('^\\s*(\\w+)')\n"
      ],
      "metadata": {
        "id": "z-a0tCNq3qZw"
      },
      "execution_count": null,
      "outputs": []
    },
    {
      "cell_type": "code",
      "source": [
        "score_map = {\n",
        "    'Overwhelmingly Positive': 8\n",
        "    , 'Very Positive': 7\n",
        "    , 'Positive': 6\n",
        "    , 'Mostly Positive': 5\n",
        "    , 'Mixed': 4\n",
        "    , 'Mostly Negative': 3\n",
        "    , 'Negative': 2\n",
        "    , 'Very Negative': 1\n",
        "    , 'Overwhelmingly Negative': 0\n",
        "}"
      ],
      "metadata": {
        "id": "t3y0jEiTEtvO"
      },
      "execution_count": null,
      "outputs": []
    },
    {
      "cell_type": "code",
      "source": [
        "def score_change(old_score, new_score, mapping):\n",
        "    old_value = mapping.get(old_score, np.nan)\n",
        "    new_value = mapping.get(new_score, np.nan)\n",
        "\n",
        "    if np.isnan(old_value) or np.isnan(new_value):\n",
        "        return np.nan\n",
        "\n",
        "    if old_value == new_value:\n",
        "        return 'no change'\n",
        "\n",
        "    if old_value < new_value:\n",
        "        return 'positive change'\n",
        "    else:\n",
        "        return 'negative change'\n"
      ],
      "metadata": {
        "id": "6WeCClyIFvVL"
      },
      "execution_count": null,
      "outputs": []
    },
    {
      "cell_type": "code",
      "source": [
        "df['score_change'] = df.apply(\n",
        "    lambda row: score_change(row['all_reviews_score'], row['recent_reviews_score'], score_map)\n",
        "    , axis=1\n",
        ")"
      ],
      "metadata": {
        "id": "zDsHxXPHJLIG"
      },
      "execution_count": null,
      "outputs": []
    },
    {
      "cell_type": "code",
      "source": [
        "df2 = df.dropna(subset=['score_change'])"
      ],
      "metadata": {
        "id": "5_G4mn4xKzzV"
      },
      "execution_count": null,
      "outputs": []
    },
    {
      "cell_type": "code",
      "source": [
        "df2.to_csv('final_new_steam.csv', index=False)"
      ],
      "metadata": {
        "id": "AlcaRQ6YkPI9"
      },
      "execution_count": null,
      "outputs": []
    }
  ]
}