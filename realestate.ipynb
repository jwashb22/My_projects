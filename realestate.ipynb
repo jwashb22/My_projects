{
  "nbformat": 4,
  "nbformat_minor": 0,
  "metadata": {
    "colab": {
      "provenance": [],
      "authorship_tag": "ABX9TyP/CRGG6tqfwDNE691OykNZ",
      "include_colab_link": true
    },
    "kernelspec": {
      "name": "python3",
      "display_name": "Python 3"
    },
    "language_info": {
      "name": "python"
    }
  },
  "cells": [
    {
      "cell_type": "markdown",
      "metadata": {
        "id": "view-in-github",
        "colab_type": "text"
      },
      "source": [
        "<a href=\"https://colab.research.google.com/github/jwashb22/My_projects/blob/main/realestate.ipynb\" target=\"_parent\"><img src=\"https://colab.research.google.com/assets/colab-badge.svg\" alt=\"Open In Colab\"/></a>"
      ]
    },
    {
      "cell_type": "code",
      "execution_count": 1,
      "metadata": {
        "id": "Cp9RWHeFn4Lh"
      },
      "outputs": [],
      "source": [
        "import requests\n",
        "from bs4 import BeautifulSoup\n",
        "import json"
      ]
    },
    {
      "cell_type": "code",
      "source": [
        "url = 'https://www.redfin.com/city/17150/UT/Salt-Lake-City'"
      ],
      "metadata": {
        "id": "BsIWljnZpETo"
      },
      "execution_count": 2,
      "outputs": []
    },
    {
      "cell_type": "code",
      "source": [
        "Headers = {\n",
        "'Accept': '*/*',\n",
        "'Accept-Encoding': 'gzip, deflate, br, zstd',\n",
        "'Accept-Language': 'en-US,en;q=0.5',\n",
        "'User-Agent': 'Mozilla/5.0 (Macintosh; Intel Mac OS X 10.15; rv:132.0) Gecko/20100101 Firefox/132.0'\n",
        "}"
      ],
      "metadata": {
        "id": "21PDqwdSpL7b"
      },
      "execution_count": 3,
      "outputs": []
    },
    {
      "cell_type": "code",
      "source": [
        "response = requests.get(url, headers=Headers)\n",
        "soup = BeautifulSoup(response.text, 'html.parser')"
      ],
      "metadata": {
        "id": "phaVWLB0p2Sv"
      },
      "execution_count": 6,
      "outputs": []
    },
    {
      "cell_type": "code",
      "source": [
        "\n",
        "\n",
        "prices = soup.find_all('span', attrs='bp-Homecard__Price--value')\n",
        "\n",
        "beds = soup.find_all('span', attrs='bp-Homecard__Stats--beds text-nowrap')\n",
        "\n",
        "baths = soup.find_all('span', attrs='bp-Homecard__Stats--baths text-nowrap')\n",
        "\n",
        "addresses = soup.find_all('div', attrs='bp-Homecard__Address flex align-center color-text-primary font-body-xsmall-compact')\n",
        "\n",
        "sqft = soup.find_all('span', attrs='bp-Homecard__Stats--sqft text-nowrap')\n",
        "\n",
        "sqft_values = []\n",
        "price_values = []\n",
        "bed_values = []\n",
        "bath_values = []\n",
        "address_values = []\n",
        "\n",
        "\n",
        "\n",
        "\n",
        "for sq in sqft:\n",
        "    sqft_values.append(sq.text.strip())\n",
        "\n",
        "for price in prices:\n",
        "    price_values.append(price.text.strip())\n",
        "\n",
        "for bed in beds:\n",
        "    bed_values.append(bed.text.strip())\n",
        "\n",
        "for bath in baths:\n",
        "    bath_values.append(bath.text.strip())\n",
        "\n",
        "for address in addresses:\n",
        "    address_values.append(address.text.strip())\n",
        "\n"
      ],
      "metadata": {
        "id": "O2tdXVXJqUgV"
      },
      "execution_count": 39,
      "outputs": []
    },
    {
      "cell_type": "code",
      "source": [
        "import pandas as pd\n",
        "\n",
        "data = {\n",
        "    'Square_Footage': sqft_values,\n",
        "    'Price': price_values,\n",
        "    'Beds': bed_values,\n",
        "    'Baths': bath_values,\n",
        "    'Address': address_values\n",
        "}\n",
        "\n",
        "df = pd.DataFrame(data)"
      ],
      "metadata": {
        "id": "-NCdceP_2apg"
      },
      "execution_count": 41,
      "outputs": []
    },
    {
      "cell_type": "code",
      "source": [
        "df.to_csv('real_estate.csv')"
      ],
      "metadata": {
        "id": "NZGntO2e3a0e"
      },
      "execution_count": 43,
      "outputs": []
    }
  ]
}